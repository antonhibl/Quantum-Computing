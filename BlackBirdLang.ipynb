{
 "cells": [
  {
   "cell_type": "markdown",
   "id": "12ad72c8",
   "metadata": {},
   "source": [
    "# The Blackbird Programming Language\n",
    "The Blackbird language breaks down a quantum circuit into a set of instructions detailing the quantum operations we would like to apply, as well as the the subsystems that these operations act on."
   ]
  },
  {
   "cell_type": "markdown",
   "id": "cf060077",
   "metadata": {},
   "source": [
    "### Operations\n",
    "Blackbird is a quantum assembly language, capable of representing the basic continuous-variable (CV) states, gates, and measurements popular in the quantum optics community Collectively, these are all considered as Operations. In Blackbird, there are four main types of Operations:\n",
    "\n",
    "- State Preparation\n",
    "- Gate Application\n",
    "- Measurements\n",
    "- Adding and Removing Subsystems\n",
    "\n",
    "These all use the following general syntax:\n",
    "\n",
    "`Operation(args) | q`\n",
    "\n",
    "where <b>args</b> represents a list of parameters for the operation, and <b>q</b>  is the qumode (or sequence of qumodes) the quantum operation acts upon. In Blackbird code, the symbol <b>|</b> always separates the operation to be applied (on the left) and the subsystem(s) it acts on (on the right)."
   ]
  },
  {
   "cell_type": "markdown",
   "id": "796d6b3d",
   "metadata": {},
   "source": [
    "### State Preparation\n",
    "States can be prepared using the state preparation Operators `Vacuum`, `Fock`, `Coherent`, `Squeezed`, `DisplacedSqueeze`, and `Thermal`. <i>By default, all qumode subsystems are assumed initialised in the vacuum state.</i>"
   ]
  },
  {
   "cell_type": "code",
   "execution_count": 1,
   "id": "19eb52a5",
   "metadata": {},
   "outputs": [],
   "source": [
    "import numpy as np\n",
    "import strawberryfields as sf\n",
    "from strawberryfields.ops import *"
   ]
  },
  {
   "cell_type": "code",
   "execution_count": 2,
   "id": "d80022a3",
   "metadata": {},
   "outputs": [],
   "source": [
    "prog = sf.Program(3)\n",
    "\n",
    "with prog.context as q:\n",
    "    # State preparation in Blackbird\n",
    "    Fock(1) | q[0]\n",
    "    Coherent(0.5, 2) | q[1]"
   ]
  },
  {
   "cell_type": "code",
   "execution_count": 3,
   "id": "1a8b183f",
   "metadata": {},
   "outputs": [],
   "source": [
    "with prog.context as q:\n",
    "    S = Squeezed(1)\n",
    "    S | q[0]\n",
    "    S | q[1]"
   ]
  },
  {
   "cell_type": "code",
   "execution_count": 4,
   "id": "f3e34140",
   "metadata": {},
   "outputs": [],
   "source": [
    "with prog.context as q:\n",
    "    # Apply the Displacement gate to qumode 0\n",
    "    alpha = 2.0 + 1j\n",
    "    Dgate(np.abs(alpha), np.angle(alpha)) | q[0]\n",
    "\n",
    "    # Apply the Rotation gate\n",
    "    phi = 3.14 / 2\n",
    "    Rgate(phi) | q[0]\n",
    "\n",
    "    # Apply the Squeezing gate\n",
    "    Sgate(2.0, 0.17) | q[0]\n",
    "\n",
    "    # Apply the Beamsplitter gate to qumodes 0 & 1\n",
    "    BSgate(3.14 / 10, 0.223) | (q[0], q[1])\n",
    "\n",
    "    # Apply the Cubic Phase gate (VGate) to qumode 0\n",
    "    gamma = 0.1\n",
    "    Vgate(gamma) | q[0]"
   ]
  },
  {
   "cell_type": "code",
   "execution_count": 5,
   "id": "e7733801",
   "metadata": {},
   "outputs": [],
   "source": [
    "with prog.context as q:\n",
    "      V = Vgate(gamma)\n",
    "      V.H | q[0]"
   ]
  },
  {
   "cell_type": "code",
   "execution_count": 7,
   "id": "3e9b1643",
   "metadata": {},
   "outputs": [],
   "source": [
    "with prog.context as q:\n",
    "    # Homodyne measurement at angle phi\n",
    "    phi = 0.25 * 3.14\n",
    "    MeasureHomodyne(phi) | q[0]\n",
    "\n",
    "    # Special homodyne measurements\n",
    "    MeasureX | q[0]\n",
    "    MeasureP | q[1]\n",
    "\n",
    "    # Heterodyne measurement\n",
    "    MeasureHeterodyne() | q[0]\n",
    "    MeasureHD           | q[1]  # shorthand\n",
    "\n",
    "    # Number state measurements of various qumodes\n",
    "    MeasureFock() | q[0]\n",
    "    MeasureFock() | (q[1], q[2]) # multiple modes"
   ]
  },
  {
   "cell_type": "code",
   "execution_count": 11,
   "id": "e1586d35",
   "metadata": {},
   "outputs": [
    {
     "name": "stdout",
     "output_type": "stream",
     "text": [
      "Fock(1) | (q[0])\n",
      "Coherent(0.5, 2) | (q[1])\n",
      "Squeezed(1, 0) | (q[0])\n",
      "Squeezed(1, 0) | (q[1])\n",
      "Dgate(2.236, 0.4636) | (q[0])\n",
      "Rgate(1.57) | (q[0])\n",
      "Sgate(2, 0.17) | (q[0])\n",
      "BSgate(0.314, 0.223) | (q[0], q[1])\n",
      "Vgate(0.1) | (q[0])\n",
      "Vgate(0.1).H | (q[0])\n",
      "MeasureHomodyne(0.785) | (q[0])\n",
      "MeasureX | (q[0])\n",
      "MeasureP | (q[1])\n",
      "MeasureHD | (q[0])\n",
      "MeasureHD | (q[1])\n",
      "MeasureFock | (q[0])\n",
      "MeasureFock | (q[1], q[2])\n",
      "MeasureHomodyne(0.785) | (q[0])\n",
      "MeasureX | (q[0])\n",
      "MeasureP | (q[1])\n",
      "MeasureHD | (q[0])\n",
      "MeasureHD | (q[1])\n",
      "MeasureFock | (q[0])\n",
      "MeasureFock | (q[1], q[2])\n"
     ]
    }
   ],
   "source": [
    "prog.print()"
   ]
  },
  {
   "cell_type": "code",
   "execution_count": 13,
   "id": "7e5baa7c",
   "metadata": {},
   "outputs": [
    {
     "name": "stdout",
     "output_type": "stream",
     "text": [
      "Squeezed(1, 0) | (q[1])\n",
      "Squeezed(1, 0) | (q[0])\n",
      "Dgate(2.236, 0.4636) | (q[0])\n",
      "Rgate(1.57) | (q[0])\n",
      "Sgate(2, 0.17) | (q[0])\n",
      "BSgate(0.314, 0.223) | (q[0], q[1])\n",
      "MeasureP | (q[1])\n",
      "MeasureHD | (q[1])\n",
      "MeasureFock | (q[1], q[2])\n",
      "MeasureP | (q[1])\n",
      "MeasureHD | (q[1])\n",
      "MeasureFock | (q[1], q[2])\n",
      "MeasureHomodyne(0.785) | (q[0])\n",
      "MeasureX | (q[0])\n",
      "MeasureHD | (q[0])\n",
      "MeasureFock | (q[0])\n",
      "MeasureHomodyne(0.785) | (q[0])\n",
      "MeasureX | (q[0])\n",
      "MeasureHD | (q[0])\n",
      "MeasureFock | (q[0])\n"
     ]
    }
   ],
   "source": [
    "prog.optimize().print()"
   ]
  }
 ],
 "metadata": {
  "kernelspec": {
   "display_name": "Python 3 (ipykernel)",
   "language": "python",
   "name": "python3"
  },
  "language_info": {
   "codemirror_mode": {
    "name": "ipython",
    "version": 3
   },
   "file_extension": ".py",
   "mimetype": "text/x-python",
   "name": "python",
   "nbconvert_exporter": "python",
   "pygments_lexer": "ipython3",
   "version": "3.9.5"
  }
 },
 "nbformat": 4,
 "nbformat_minor": 5
}
