{
 "cells": [
  {
   "cell_type": "markdown",
   "id": "0aca492e-9e7b-43c9-afd4-07b6b8415fb8",
   "metadata": {},
   "source": [
    "<h1>Qubits, The molecules of quantum systems</h1>\n",
    "<p>\n",
    "    The bit is the fundamental concept of classical computaion and classical information. Quantum computation and quantum informatics are based upon a concept which is somewhat analogous to a regular bit, this concept is the <b>Quantum Bit</b>, or <b>Qubit</b> for short."
   ]
  },
  {
   "cell_type": "markdown",
   "id": "62670c46-8e26-4d6c-ae7a-7eb235aa4d0a",
   "metadata": {},
   "source": [
    "## What are Qubits?\n",
    "qubits may be described as mathematical objects which hold certain specific properties. Now while qubits may be thought about and represented in this way, they may also be represented and considered as physical objects. For now I will not worry about the abstraction between these $2$ representations and I will focus on how for the most part when thinking of quantum computation, I will think of these qubits as abstract mathematical objects. The beauty and positive of treating these as abstract mathematical objects is that I have the freedom to construct a general theory of quantum computation which does not depend upon a specific system for its realization; all we have to consider is that these qubits are able to be thought about as abstract mathematical objects.\n",
    "<hr>\n",
    "## What then is a Qubit?\n",
    "In the same way that classical bits have states, i.e. either 0 or 1; Qubits may also hold states. $2$ possible states for a qubit are the states |0⟩ and |1⟩, which correspond respectively to the states of $0$ and $1$ for classical bits. Notation like $|\\rangle$ is called the <b>Dirac Notation</b>, it is the most common and standard way to represent states within quantum mechanics. The important difference between bits and qubits is the ability for qubits to exist in states other than $|0\\rangle$ and $|1\\rangle$. It is also possible to form <i>linear combinations of states</i>, often called <b>superpositions</b>:.\n",
    "\n",
    "$$ |{\\psi}\\rangle={\\alpha}|{\\theta}\\rangle+{\\beta}|1\\rangle $$\n",
    "\n",
    "the numbers <i>$\\alpha$</i> and <i>$\\beta$</i> are complex numbers although for alot of the purposes I will use them for not alot is lost by considering them as real numbers. Putting this simply, the state of a qubit is a vector in a 2-dimensional complex vector space. the special states of $|0\\rangle$ and $|1\\rangle$ are known as <b>computational basis states</b>, and form an <i>orthonormal basis</i> for this vector.\n",
    "<hr>\n",
    "## Measuring Information\n",
    "We can examine a bit to determine whether it is in the state of $0$ or $1$, an example of this is anytime a classical computer retrieves contents of its stored memory. Rather strangely, we cannot examine a qubit to determine its quantum state, that is, those aformentioned values of <i>$\\alpha$</i> and <i>$\\beta$</i>. Instead the laws of quantum mechanics tell me I can only require much more restricted information regarding the quantum state.<br> When we measure a qubit we get either the result of 0 with the probability $|{\\alpha}|^2$ interpret, or the result of 1 with the probability of $|{\\beta}|^2$. Stemming from these assumptions, naturally $|{\\alpha}|^2 + |{\\beta}|^2 = 1$ because the probabilities must sum to 1. Thinking about this geometrically, I can interpret this as the condition the qubit's state be normalized to length 1. Thus in general a qubit's state is a unit vector in a 2-dimensional complex vector space.\n",
    "\n",
    "<i>The dichotomy between the unobservable state of the qubit and the observations I can make lie at the core of quantum computer science.</i>\n",
    "<hr>"
   ]
  },
  {
   "cell_type": "markdown",
   "id": "252e388d-1df1-44e8-8252-a3255149f48a",
   "metadata": {},
   "source": [
    "### Probabilistic vs Deterministic\n",
    "The ability of a qubit to exist in a superposition of states runs counter to our common sense and understanding of the world around us. A classical bit is like a coin: either heads or tails up, for imperfect coins there might be intermedial states of being at rest on an edge, but I will ignore these cases as they can be disregarded in the typical and ideal case. In stark contrast, a qubit can exist in a <b>continuum of states</b> between $|0\\rangle$ and $|1\\rangle$, until it is observed. I must emphasize that when a qubit is measured it only will ever give a $0$ or $1$ as the measurement result, all of these returned values are calculated probabilistically. For example a qubit can be in the state:\n",
    "\n",
    "$$ \\frac{1}{\\sqrt{2}}|0\\rangle + \\frac{1}{\\sqrt{2}}|1\\rangle $$\n",
    "\n",
    "Which when measured gives the result $0$ only ${50}\\%$ of the time$(\\frac{1}{\\sqrt{2^2}})$ and a result of $1$ the other ${50}\\%$ of the time.This state is sometimes denoted as $|+{\\rangle}$"
   ]
  },
  {
   "cell_type": "markdown",
   "id": "0eed5083-e51e-4b4f-86f7-cb2e2c726088",
   "metadata": {},
   "source": [
    "## Qubit Representations\n",
    "Despite the strange oddities in how qubits behave, they are in fact real pieces of information that can be worked with. There are many quantum computing frameworks freely availabl to learn and work with online nowadays, some examples include <ul><b><li>IBM Qiskit</li><li>Google Cirq</li><li>Amazon Braket</li><li>Microsoft Q#</li><li>and more...</li></b></ul>My point is that the existence of qubits as well as their behaviours are things that have been validated not only through repeated trials and experiments, but also in that they exist exactly how we imagined within these frameworks. Drawing away from the more Computer Science side of things, it should be noted that many different physical systems can be used to model and realize qubits. \n",
    "\n",
    "An example of a concrete way in which a qubit can be realized is shown via two different polarizations of a particular photon, or as the alignment of a nuclear spin in a uniform magnetic field, or even as 2 states of an electron orbiting a single atom as is shown below:\n",
    "\n",
    "<img src=\"images/qubitelectroniclevelsrep.png\" alt=\"Qubit Electronic Levels\" width=\"300\" height=\"225\" border=2px position=center>"
   ]
  },
  {
   "cell_type": "markdown",
   "id": "2072ac4f-7d84-4f9a-8525-39949bf508c2",
   "metadata": {},
   "source": [
    "In this atom model, the electron can exist ineither the so-called <i>'ground'</i> or <i>'excited'</i> states, which we will call $|0\\rangle$ and $|1\\rangle$ respectively. Now, by shining a light on the atom, with an appropriate amount of energy and an appropriate length of time, it is possible to move the electron from  $|0\\rangle$ state to the $|1\\rangle$ state and vice versa. Even more interestingly, by reducing the amount of time we shine the light, the electron initially in a state of  $|0\\rangle$ can be moved halfway between  $|0\\rangle$ and $|1\\rangle$ to the  <b>$|+\\rangle$</b> state"
   ]
  },
  {
   "cell_type": "markdown",
   "id": "f9bf6a83-6521-4d00-b7d4-a388e1d0e447",
   "metadata": {},
   "source": [
    "## Super Position and Interpretations\n",
    "Naturaly, the meaning and interpretation of superposition states has been given a great deal of focus and been the subject of much controversy, the inherently probabilistic nature of quantum systems and their observations is what causes this. However, for the most part I will not concern myself with these arguments and instead focus on developing mathematical and conceptual pictures which are predictive.\n",
    "\n",
    "One such picture that is useful when thinking about qubits is given in the following geometric representation; Because ${|{\\alpha}|^2}+{|{\\beta}|^2}=1$, we may rewrite this as:\n",
    "\n",
    "$$ |{\\psi}\\rangle={e^{i{\\upsilon}}}({cos\\frac{\\theta}{2}|0\\rangle+{e^{i{\\upsilon}}}sin\\frac{\\theta}{2}|1\\rangle}) $$\n",
    "\n",
    "where $\\theta$, $\\psi$, and $\\upsilon$ are all real numbers. I will show later a method in which we can <i>ignore</i> the factor of ${e^{i{\\upsilon}}}$ out in the front, this is because it has no observable effects, and for that reason we can effectively write it then as:\n",
    "\n",
    "$$ |{\\psi}\\rangle={cos\\frac{\\theta}{2}|0\\rangle+{e^{i{\\upsilon}}}sin\\frac{\\theta}{2}|1\\rangle} $$"
   ]
  },
  {
   "cell_type": "markdown",
   "id": "edd93f76-21a9-4ee6-8617-da45814a797d",
   "metadata": {},
   "source": [
    "## Introducing the Bloch Sphere\n",
    "the numbers $\\theta$ and $\\psi$ define a point on the 3-dimensional sphere aften referred to as a <b>Bloch Sphere</b>. \n",
    "\n",
    "<img src=\"images/blochsphererep.png\" alt=\"Bloch Sphere Example\" width=\"450\" height=\"420\" border=2px position=center>\n",
    "\n",
    "This representation helps to visualize the state of a single qubit extremely well and often serves as a playground to test ideas about quantum computation and quantum informatics. Many of the operations on single qubits can be described using visualizations of this <i>Bloch Sphere</i>. <b>However</b>, it must be kept in mind that the intuition surrounding this and its result application to predictions is limited because there is no simple generalization of the bloch sphere for multiple qubits.\n",
    "\n",
    "### how much information is represented by a qubit anyways?\n",
    "Seemingly paradoxically, there are in fact an infinite number of points on the unit sphere, so that in principle one could store an entire text or book inside of the infinite binary expansion of $\\theta$. However, this is actually a misleading conclusion primarily due to the behaviour of a qubit when it is measured or observed. Remember how the measurement of a qubit will only give a 0 or a 1. Furthermore, measurement changes the actual state of a qubit and collapses it from it's superposition of $|0\\rangle$ or $|1\\rangle$ to the specific state that is consistent with the measurement result.\n",
    "\n",
    "<b>For example: if measurement of $|+\\rangle$ gives 0, then the post measurement state of the qubit will then be |0⟩.</b>\n",
    "    \n",
    "### Why does this occur?\n",
    "Nobody really knows actually; this behaviour is simply one of what are known as <i>fundamental postulates of quantum mechanics</i>. What is relevant for our purposes is that from a single measurement one obtains only a single bit of information regarding the state of the qubit, thus partially resolving this apparent paradox in the nature of qubits. It turns out that if infinitely many identically prepared qubits were measured, one would be able to determine α and β for a qubit in the state given in:\n",
    "\n",
    "$$ |{\\psi}\\rangle={\\alpha}|0\\rangle+{\\beta}|1\\rangle $$"
   ]
  },
  {
   "cell_type": "markdown",
   "id": "517e3c51-c421-4e1a-8aa8-f503d4f37553",
   "metadata": {},
   "source": [
    "<hr>\n",
    "# Using Qubits in Qiskit\n",
    "I am going to start messing around with qubits using Qiskit,i>(A python framework for working on quantum computers through IBM cloud computing technologies)</i>, the subject of the rest of this notebook will contain mostly the basics of setting up Qiskit and setting up basic circuits consisting of variable number of qubits."
   ]
  },
  {
   "cell_type": "code",
   "execution_count": 2,
   "id": "9394f2ec-9ee7-4141-a827-392e5109c834",
   "metadata": {},
   "outputs": [],
   "source": [
    "# I will start by importing the necessary modules from Qiskit and other Python Data Science Libraries\n",
    "\n",
    "import numpy as np\n",
    "from qiskit import *\n",
    "from math import pi, sqrt\n",
    "from qiskit.visualization import *\n",
    "from qiskit.tools.visualization import circuit_drawer\n",
    "%matplotlib inline"
   ]
  },
  {
   "cell_type": "code",
   "execution_count": 6,
   "id": "7e825c6e-f835-4632-bc83-f0a56ccf7f9b",
   "metadata": {},
   "outputs": [],
   "source": [
    "# The code below is helping to generate our first quantum circuit\n",
    "\n",
    "n = 8\n",
    "n_q = n\n",
    "n_b = n\n",
    "circout = QuantumCircuit(n_q,n_b)\n",
    "\n",
    "# Explaining this code further: \n",
    "# n is simply a mere python integer variable used to give other values value\n",
    "# n_q is the number of qubits being entered into our circuit, \n",
    "# n_b is the number of bits that will be returned in the circuit's ouput\n",
    "# circout is the name assigned to the output of our quantum circuit"
   ]
  },
  {
   "cell_type": "markdown",
   "id": "863c885e-d494-4638-92da-a8907234a4dc",
   "metadata": {},
   "source": [
    "The extraction of outputs in a quantum circuit is done using an operation called <i>measure</i>. Each measurement tells a specific qubit to give an output to a specific output bit. The following code adds a measure operation to each of the 8 qubits. The qubits and bits are both labelled by the numbers from 0 to 7 (because that’s how computers like to count). \n",
    "\n",
    "below, the command qc.measure(j,j) adds a measurement to our circuit, qc, that tells qubit j to write an output to the bit j."
   ]
  },
  {
   "cell_type": "code",
   "execution_count": 7,
   "id": "f3da1650-947c-4ffa-8283-002476bdab98",
   "metadata": {},
   "outputs": [],
   "source": [
    "for j in range(n):\n",
    "    circout.measure(j,j)"
   ]
  },
  {
   "cell_type": "markdown",
   "id": "0f2c639b-b3f0-496b-abfc-c9cb4c67980b",
   "metadata": {},
   "source": [
    "Now that I have measured the circuit I can display the output like so:"
   ]
  },
  {
   "cell_type": "code",
   "execution_count": 8,
   "id": "bb67c567-15d9-4300-a0ba-6f760bee0753",
   "metadata": {},
   "outputs": [
    {
     "data": {
      "image/png": "[encoded data removed]",
      "text/plain": [
       "<Figure size 568.197x565.88 with 1 Axes>"
      ]
     },
     "execution_count": 8,
     "metadata": {},
     "output_type": "execute_result"
    }
   ],
   "source": [
    "circuit_drawer(circout, output='mpl', style={'backgroundcolor': '#EEEEEE'})"
   ]
  },
  {
   "cell_type": "markdown",
   "id": "bb0ab8f3-41fe-419f-8759-08898af13149",
   "metadata": {},
   "source": [
    "This is a good example of how using just a few lines of code we can sequentially examine all of the qubits in a circuit to determine their classical bit outputs. The power of qiskit is in this ease of creating circuits, measurement, and execution; all of these are neatly tied together in easy to use tools which allow us to focus on the more abstracted parts of our circuits. Other frameworks offer similar but different advantages, I have personally found however, that the tools and features in qiskit are some of the best working and understandable ones available through open-source technologies. \n",
    "\n",
    "Now lets examine the output from above. Qubits are always initialized to give the output $0$. Since we don't do anything to our qubits in the circuit above, this is exactly the result we'll get when we measure them. We can see this by running the circuit many times and plotting the results in a histogram. We will find that the result is always $00000000$ a $0$ from each qubit."
   ]
  },
  {
   "cell_type": "code",
   "execution_count": 9,
   "id": "a8f0e47d-239f-4e98-8ad8-531069eeabf0",
   "metadata": {},
   "outputs": [
    {
     "data": {
      "image/png": "[encoded data removed]",
      "text/plain": [
       "<Figure size 504x360 with 1 Axes>"
      ]
     },
     "execution_count": 9,
     "metadata": {},
     "output_type": "execute_result"
    }
   ],
   "source": [
    "sim = Aer.get_backend('qasm_simulator')  # this is the simulator we'll use\n",
    "qobj = assemble(circout)  # this turns the circuit into an object our backend can run\n",
    "result = sim.run(qobj).result()  # we run the experiment and get the result from that experiment\n",
    "# from the results, we get a dictionary containing the number of times (counts)\n",
    "# each result appeared\n",
    "counts = result.get_counts()\n",
    "# and display it on a histogram\n",
    "plot_histogram(counts)"
   ]
  },
  {
   "cell_type": "markdown",
   "id": "c414ec5a-d500-45ce-b4f2-b925b44ac593",
   "metadata": {},
   "source": [
    "Just like we expected the results are $0000000$ with the probability of getting these $0$'s being $100\\%$ or $1.0$"
   ]
  },
  {
   "cell_type": "markdown",
   "id": "a476ce3b-6f33-438a-81fa-bfb43f07a958",
   "metadata": {},
   "source": [
    "## Circuit Results Variability\n",
    "The reason for running many times and showing the result as a histogram is because quantum computers may have some randomness(noise) in their results. In this situation, since we aren’t doing anything quantum, we get just the $00000000$ result with certainty.\n",
    "\n",
    "#### Note on simulators vs. true quantum devices\n",
    "<footer>Note that this result comes from a quantum simulator, which is a standard computer calculating what an ideal quantum computer would do. Simulations are only possible for small numbers of qubits (~30 qubits), but they are nevertheless a very useful tool when designing your first quantum circuits. To run on a real device you simply need to replace Aer.get_backend('qasm_simulator') with the backend object of the device you want to use.</footer>"
   ]
  },
  {
   "cell_type": "markdown",
   "id": "f4803d41-f930-4987-b485-8bc518e73bdd",
   "metadata": {},
   "source": [
    "## References\n",
    "<ul>\n",
    "    <b>\n",
    "    <li>Qiskit.org</li>\n",
    "    <li>'Quantum Computation and Quantum Information' by Micheal Nielsen and Isaac Chuang</li>\n",
    "    <li>'Number Theory in Science and Communications' by M.R. Schroeder</li>\n",
    "    </b>\n",
    "</ul>"
   ]
  }
 ],
 "metadata": {
  "kernelspec": {
   "display_name": "Python 3",
   "language": "python",
   "name": "python3"
  },
  "language_info": {
   "codemirror_mode": {
    "name": "ipython",
    "version": 3
   },
   "file_extension": ".py",
   "mimetype": "text/x-python",
   "name": "python",
   "nbconvert_exporter": "python",
   "pygments_lexer": "ipython3",
   "version": "3.9.4"
  }
 },
 "nbformat": 4,
 "nbformat_minor": 5
}
