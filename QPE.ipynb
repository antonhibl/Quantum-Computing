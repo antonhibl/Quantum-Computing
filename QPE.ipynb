{
 "cells": [
  {
   "cell_type": "markdown",
   "metadata": {
    "tags": [
     "remove_cell"
    ]
   },
   "source": [
    "# Quantum Phase Estimation"
   ]
  },
  {
   "cell_type": "markdown",
   "metadata": {},
   "source": [
    "Quantum phase estimation is one of the most important subroutines in quantum computation. It serves as a central building block for many quantum algorithms. The objective of the algorithm is the following:\n",
    "\n",
    "Given a unitary operator $U$, the algorithm estimates $\\theta$ in $U\\vert\\psi \\rangle =e^{\\boldsymbol{2\\pi i} \\theta }|\\psi \\rangle$. Here $|\\psi\\rangle$ is an eigenvector and $e^{\\boldsymbol{2\\pi i}\\theta}$ is the corresponding eigenvalue. Since $U$ is unitary, all of its eigenvalues have a norm of 1."
   ]
  },
  {
   "cell_type": "markdown",
   "metadata": {},
   "source": [
    "## General Overview"
   ]
  },
  {
   "cell_type": "markdown",
   "metadata": {},
   "source": [
    "The general quantum circuit for phase estimation is shown below. The top register contains $t$ 'counting' qubits, and the bottom contains qubits in the state $|\\psi\\rangle$:"
   ]
  },
  {
   "cell_type": "markdown",
   "metadata": {},
   "source": [
    "### Intuition\n",
    "The quantum phase estimation algorithm uses phase kickback to write the phase of $U$ (in the Fourier basis) to the $t$ qubits in the counting register. I then use the inverse QFT to translate this from the Fourier basis into the computational basis, which I can measure.\n",
    "\n",
    "I remember that in the Fourier basis the topmost qubit completes one full rotation when counting between $0$ and $2^t$. To count to a number, $x$ between $0$ and $2^t$, I rotate this qubit by $\\tfrac{x}{2^t}$ around the z-axis. For the next qubit I rotate by $\\tfrac{2x}{2^t}$, then $\\tfrac{4x}{2^t}$ for the third qubit.\n",
    "\n",
    "When I use a qubit to control the $U$-gate, the qubit will turn (due to kickback) proportionally to the phase $e^{2i\\pi\\theta}$. I can use successive $CU$-gates to repeat this rotation an appropriate number of times until I have encoded the phase theta as a number between $0$ and $2^t$ in the Fourier basis. \n",
    "\n",
    "Then I simply use $QFT^\\dagger$ to convert this into the computational basis."
   ]
  },
  {
   "cell_type": "markdown",
   "metadata": {},
   "source": [
    "### A Mathematical Foundation\n",
    "\n",
    "As mentioned above, this circuit estimates the phase of a unitary operator $U$. It estimates $\\theta$ in $U\\vert\\psi \\rangle =e^{\\boldsymbol{2\\pi i} \\theta }|\\psi \\rangle$, where $|\\psi\\rangle$ is an eigenvector and $e^{\\boldsymbol{2\\pi i}\\theta}$ is the corresponding eigenvalue. The circuit operates in the following steps:\n",
    "\n",
    "**Setup**: $\\vert\\psi\\rangle$ is in one set of qubit registers. An additional set of $n$ qubits form the counting register on which I will store the value $2^n\\theta$: \n",
    "\n",
    "$$ \\psi_0 = \\lvert 0 \\rangle^{\\otimes n} \\lvert \\psi \\rangle$$\n",
    "\n",
    "**Superposition**: I Apply a $n$-bit Hadamard gate operation $H^{\\otimes n}$ on the counting register: \n",
    "\n",
    "$$ \\psi_1 = {\\frac {1}{2^{\\frac {n}{2}}}}\\left(|0\\rangle +|1\\rangle \\right)^{\\otimes n} \\lvert \\psi \\rangle$$\n",
    "\n",
    "**Controlled Unitary Operations**: I need to introduce the controlled unitary $C-U$ that applies the unitary operator $U$ on the target register only if its corresponding control bit is $|1\\rangle$. Since $U$ is a unitary operatory with eigenvector $|\\psi\\rangle$ such that $U|\\psi \\rangle =e^{\\boldsymbol{2\\pi i} \\theta }|\\psi \\rangle$, this means: \n",
    "\n",
    "$$U^{2^{j}}|\\psi \\rangle =U^{2^{j}-1}U|\\psi \\rangle =U^{2^{j}-1}e^{2\\pi i\\theta }|\\psi \\rangle =\\cdots =e^{2\\pi i2^{j}\\theta }|\\psi \\rangle$$\n",
    "\n",
    "Applying all the $n$ controlled operations $C − U^{2^j}$ with $0\\leq j\\leq n-1$, and using the relation $|0\\rangle \\otimes |\\psi \\rangle +|1\\rangle \\otimes e^{2\\pi i\\theta }|\\psi \\rangle =\\left(|0\\rangle +e^{2\\pi i\\theta }|1\\rangle \\right)\\otimes |\\psi \\rangle$:\n",
    "\n",
    "$$\n",
    "\\begin{aligned}\n",
    "\\psi_{2} & =\\frac {1}{2^{\\frac {n}{2}}} \\left(|0\\rangle+{e^{\\boldsymbol{2\\pi i} \\theta 2^{n-1}}}|1\\rangle \\right) \\otimes \\cdots \\otimes \\left(|0\\rangle+{e^{\\boldsymbol{2\\pi i} \\theta 2^{1}}}\\vert1\\rangle \\right) \\otimes \\left(|0\\rangle+{e^{\\boldsymbol{2\\pi i} \\theta 2^{0}}}\\vert1\\rangle \\right) \\otimes |\\psi\\rangle\\\\\\\\\n",
    "& = \\frac{1}{2^{\\frac {n}{2}}}\\sum _{k=0}^{2^{n}-1}e^{\\boldsymbol{2\\pi i} \\theta k}|k\\rangle \\otimes \\vert\\psi\\rangle\n",
    "\\end{aligned}$$\n",
    "\n",
    "where $k$ denotes the integer representation of n-bit binary numbers. \n",
    "\n",
    "**Inverse Fourier Transform**: Notice that the above expression is exactly the result of applying a quantum Fourier transform as we derived in the notebook on Quantum Fourier Transform and its Qiskit Implementation. Recall that QFT maps an n-qubit input state $\\vert x\\rangle$ into an output as:\n",
    "\n",
    "$$\n",
    "QFT\\vert x \\rangle = \\frac{1}{2^\\frac{n}{2}}\n",
    "\\left(\\vert0\\rangle + e^{\\frac{2\\pi i}{2}x} \\vert1\\rangle\\right) \n",
    "\\otimes\n",
    "\\left(\\vert0\\rangle + e^{\\frac{2\\pi i}{2^2}x} \\vert1\\rangle\\right) \n",
    "\\otimes  \n",
    "\\ldots\n",
    "\\otimes\n",
    "\\left(\\vert0\\rangle + e^{\\frac{2\\pi i}{2^{n-1}}x} \\vert1\\rangle\\right) \n",
    "\\otimes\n",
    "\\left(\\vert0\\rangle + e^{\\frac{2\\pi i}{2^n}x} \\vert1\\rangle\\right) \n",
    "$$\n",
    "\n",
    "Replacing $x$ by $2^n\\theta$ in the above expression gives exactly the expression derived in step 2 above. Therefore, to recover the state $\\vert2^n\\theta\\rangle$, apply an inverse Fourier transform on the auxiliary register. Doing so, I find:\n",
    "\n",
    "$$\n",
    "\\vert\\psi_3\\rangle = \\frac {1}{2^{\\frac {n}{2}}}\\sum _{k=0}^{2^{n}-1}e^{\\boldsymbol{2\\pi i} \\theta k}|k\\rangle \\otimes | \\psi \\rangle \\xrightarrow{\\mathcal{QFT}_n^{-1}} \\frac {1}{2^n}\\sum _{x=0}^{2^{n}-1}\\sum _{k=0}^{2^{n}-1} e^{-\\frac{2\\pi i k}{2^n}(x - 2^n \\theta)} |x\\rangle \\otimes |\\psi\\rangle\n",
    "$$ \n",
    "\n",
    "**Measurement**: \n",
    "The above expression peaks near $x = 2^n\\theta$. For the case when $2^n\\theta$ is an integer, measuring in the computational basis gives the phase in the auxiliary register with high probability: \n",
    "\n",
    "$$ |\\psi_4\\rangle = | 2^n \\theta \\rangle \\otimes | \\psi \\rangle$$\n",
    "\n",
    "For the case when $2^n\\theta$ is not an integer, it can be shown that the above expression still peaks near $x = 2^n\\theta$ with probability better than $4/\\pi^2 \\approx 40\\%$."
   ]
  },
  {
   "cell_type": "markdown",
   "metadata": {},
   "source": [
    "## Example: T-gate"
   ]
  },
  {
   "cell_type": "markdown",
   "metadata": {},
   "source": [
    "I can take a gate I know well, the $T$-gate, and use Quantum Phase Estimation to estimate its phase. I now remember that the $T$-gate adds a phase of $e^\\frac{i\\pi}{4}$ to the state $|1\\rangle$:\n",
    "\n",
    "$$ T|1\\rangle = \n",
    "\\begin{bmatrix}\n",
    "1 & 0\\\\\n",
    "0 & e^\\frac{i\\pi}{4}\\\\ \n",
    "\\end{bmatrix}\n",
    "\\begin{bmatrix}\n",
    "0\\\\\n",
    "1\\\\ \n",
    "\\end{bmatrix}\n",
    "= e^\\frac{i\\pi}{4}|1\\rangle $$\n",
    "\n",
    "Since QPE will give me $\\theta$ where:\n",
    "\n",
    "$$ T|1\\rangle = e^{2i\\pi\\theta}|1\\rangle $$\n",
    "\n",
    "I expect to find:\n",
    "\n",
    "$$\\theta = \\frac{1}{8}$$\n",
    "\n",
    "In this example I will use three qubits and obtain an _exact_ result which is not an estimation!"
   ]
  },
  {
   "cell_type": "markdown",
   "metadata": {},
   "source": [
    "### Creating the Circuit\n",
    "First I will prepare the environment:"
   ]
  },
  {
   "cell_type": "code",
   "execution_count": 1,
   "metadata": {},
   "outputs": [],
   "source": [
    "#initialization\n",
    "import matplotlib.pyplot as plt\n",
    "import numpy as np\n",
    "import math\n",
    "\n",
    "# importing Qiskit\n",
    "from qiskit import IBMQ, Aer, transpile, assemble\n",
    "from qiskit import QuantumCircuit, ClassicalRegister, QuantumRegister\n",
    "\n",
    "# import basic plot tools\n",
    "from qiskit.visualization import plot_histogram"
   ]
  },
  {
   "cell_type": "markdown",
   "metadata": {},
   "source": [
    "Now, to set up the quantum circuit; I will use four qubits -- qubits 0 to 2 as counting qubits, and qubit 3 as the eigenstate of the unitary operator ($T$). \n",
    "\n",
    "I initialize $\\vert\\psi\\rangle = \\vert1\\rangle$ by applying an $X$ gate:"
   ]
  },
  {
   "cell_type": "code",
   "execution_count": 2,
   "metadata": {},
   "outputs": [
    {
     "data": {
      "text/html": [
       "<pre style=\"word-wrap: normal;white-space: pre;background: #fff0;line-height: 1.1;font-family: &quot;Courier New&quot;,Courier,monospace\">          \n",
       "q_0: ─────\n",
       "          \n",
       "q_1: ─────\n",
       "          \n",
       "q_2: ─────\n",
       "     ┌───┐\n",
       "q_3: ┤ X ├\n",
       "     └───┘\n",
       "c: 3/═════\n",
       "          </pre>"
      ],
      "text/plain": [
       "          \n",
       "q_0: ─────\n",
       "          \n",
       "q_1: ─────\n",
       "          \n",
       "q_2: ─────\n",
       "     ┌───┐\n",
       "q_3: ┤ X ├\n",
       "     └───┘\n",
       "c: 3/═════\n",
       "          "
      ]
     },
     "execution_count": 2,
     "metadata": {},
     "output_type": "execute_result"
    }
   ],
   "source": [
    "qpe = QuantumCircuit(4, 3)\n",
    "qpe.x(3)\n",
    "qpe.draw()"
   ]
  },
  {
   "cell_type": "markdown",
   "metadata": {},
   "source": [
    "Next, I apply Hadamard gates to the counting qubits:"
   ]
  },
  {
   "cell_type": "code",
   "execution_count": 3,
   "metadata": {},
   "outputs": [
    {
     "data": {
      "text/html": [
       "<pre style=\"word-wrap: normal;white-space: pre;background: #fff0;line-height: 1.1;font-family: &quot;Courier New&quot;,Courier,monospace\">     ┌───┐\n",
       "q_0: ┤ H ├\n",
       "     ├───┤\n",
       "q_1: ┤ H ├\n",
       "     ├───┤\n",
       "q_2: ┤ H ├\n",
       "     ├───┤\n",
       "q_3: ┤ X ├\n",
       "     └───┘\n",
       "c: 3/═════\n",
       "          </pre>"
      ],
      "text/plain": [
       "     ┌───┐\n",
       "q_0: ┤ H ├\n",
       "     ├───┤\n",
       "q_1: ┤ H ├\n",
       "     ├───┤\n",
       "q_2: ┤ H ├\n",
       "     ├───┤\n",
       "q_3: ┤ X ├\n",
       "     └───┘\n",
       "c: 3/═════\n",
       "          "
      ]
     },
     "execution_count": 3,
     "metadata": {},
     "output_type": "execute_result"
    }
   ],
   "source": [
    "for qubit in range(3):\n",
    "    qpe.h(qubit)\n",
    "qpe.draw()"
   ]
  },
  {
   "cell_type": "markdown",
   "metadata": {},
   "source": [
    "Next I perform the controlled unitary operations. "
   ]
  },
  {
   "cell_type": "code",
   "execution_count": 4,
   "metadata": {},
   "outputs": [
    {
     "data": {
      "text/html": [
       "<pre style=\"word-wrap: normal;white-space: pre;background: #fff0;line-height: 1.1;font-family: &quot;Courier New&quot;,Courier,monospace\">     ┌───┐                                                            »\n",
       "q_0: ┤ H ├────■───────────────────────────────────────────────────────»\n",
       "     ├───┤    │                                                       »\n",
       "q_1: ┤ H ├────┼─────────■─────────■───────────────────────────────────»\n",
       "     ├───┤    │         │         │                                   »\n",
       "q_2: ┤ H ├────┼─────────┼─────────┼─────────■─────────■─────────■─────»\n",
       "     ├───┤┌───┴────┐┌───┴────┐┌───┴────┐┌───┴────┐┌───┴────┐┌───┴────┐»\n",
       "q_3: ┤ X ├┤ P(π/4) ├┤ P(π/4) ├┤ P(π/4) ├┤ P(π/4) ├┤ P(π/4) ├┤ P(π/4) ├»\n",
       "     └───┘└────────┘└────────┘└────────┘└────────┘└────────┘└────────┘»\n",
       "c: 3/═════════════════════════════════════════════════════════════════»\n",
       "                                                                      »\n",
       "«               \n",
       "«q_0: ──────────\n",
       "«               \n",
       "«q_1: ──────────\n",
       "«               \n",
       "«q_2: ────■─────\n",
       "«     ┌───┴────┐\n",
       "«q_3: ┤ P(π/4) ├\n",
       "«     └────────┘\n",
       "«c: 3/══════════\n",
       "«               </pre>"
      ],
      "text/plain": [
       "     ┌───┐                                                            »\n",
       "q_0: ┤ H ├────■───────────────────────────────────────────────────────»\n",
       "     ├───┤    │                                                       »\n",
       "q_1: ┤ H ├────┼─────────■─────────■───────────────────────────────────»\n",
       "     ├───┤    │         │         │                                   »\n",
       "q_2: ┤ H ├────┼─────────┼─────────┼─────────■─────────■─────────■─────»\n",
       "     ├───┤┌───┴────┐┌───┴────┐┌───┴────┐┌───┴────┐┌───┴────┐┌───┴────┐»\n",
       "q_3: ┤ X ├┤ P(π/4) ├┤ P(π/4) ├┤ P(π/4) ├┤ P(π/4) ├┤ P(π/4) ├┤ P(π/4) ├»\n",
       "     └───┘└────────┘└────────┘└────────┘└────────┘└────────┘└────────┘»\n",
       "c: 3/═════════════════════════════════════════════════════════════════»\n",
       "                                                                      »\n",
       "«               \n",
       "«q_0: ──────────\n",
       "«               \n",
       "«q_1: ──────────\n",
       "«               \n",
       "«q_2: ────■─────\n",
       "«     ┌───┴────┐\n",
       "«q_3: ┤ P(π/4) ├\n",
       "«     └────────┘\n",
       "«c: 3/══════════\n",
       "«               "
      ]
     },
     "execution_count": 4,
     "metadata": {},
     "output_type": "execute_result"
    }
   ],
   "source": [
    "repetitions = 1\n",
    "for counting_qubit in range(3):\n",
    "    for i in range(repetitions):\n",
    "        qpe.cp(math.pi/4, counting_qubit, 3); # This is C-U\n",
    "    repetitions *= 2\n",
    "qpe.draw()"
   ]
  },
  {
   "cell_type": "markdown",
   "metadata": {},
   "source": [
    "I apply the inverse quantum Fourier transformation to convert the state of the counting register. Here I give the code for $QFT^\\dagger$:"
   ]
  },
  {
   "cell_type": "code",
   "execution_count": 5,
   "metadata": {},
   "outputs": [],
   "source": [
    "def qft_dagger(qc, n):\n",
    "    \"\"\"n-qubit QFTdagger the first n qubits in circ\"\"\"\n",
    "    # Don't forget the Swaps!\n",
    "    for qubit in range(n//2):\n",
    "        qc.swap(qubit, n-qubit-1)\n",
    "    for j in range(n):\n",
    "        for m in range(j):\n",
    "            qc.cp(-math.pi/float(2**(j-m)), m, j)\n",
    "        qc.h(j)"
   ]
  },
  {
   "cell_type": "markdown",
   "metadata": {},
   "source": [
    "I then measure the counting register:"
   ]
  },
  {
   "cell_type": "code",
   "execution_count": 6,
   "metadata": {},
   "outputs": [],
   "source": [
    "qpe.barrier()\n",
    "# Apply inverse QFT\n",
    "qft_dagger(qpe, 3)\n",
    "# Measure\n",
    "qpe.barrier()\n",
    "for n in range(3):\n",
    "    qpe.measure(n,n)"
   ]
  },
  {
   "cell_type": "code",
   "execution_count": 7,
   "metadata": {},
   "outputs": [
    {
     "data": {
      "text/html": [
       "<pre style=\"word-wrap: normal;white-space: pre;background: #fff0;line-height: 1.1;font-family: &quot;Courier New&quot;,Courier,monospace\">     ┌───┐                                                            »\n",
       "q_0: ┤ H ├────■───────────────────────────────────────────────────────»\n",
       "     ├───┤    │                                                       »\n",
       "q_1: ┤ H ├────┼─────────■─────────■───────────────────────────────────»\n",
       "     ├───┤    │         │         │                                   »\n",
       "q_2: ┤ H ├────┼─────────┼─────────┼─────────■─────────■─────────■─────»\n",
       "     ├───┤┌───┴────┐┌───┴────┐┌───┴────┐┌───┴────┐┌───┴────┐┌───┴────┐»\n",
       "q_3: ┤ X ├┤ P(π/4) ├┤ P(π/4) ├┤ P(π/4) ├┤ P(π/4) ├┤ P(π/4) ├┤ P(π/4) ├»\n",
       "     └───┘└────────┘└────────┘└────────┘└────────┘└────────┘└────────┘»\n",
       "c: 3/═════════════════════════════════════════════════════════════════»\n",
       "                                                                      »\n",
       "«                ░    ┌───┐                                            ░ ┌─┐   »\n",
       "«q_0: ───────────░──X─┤ H ├─────■───────────────■──────────────────────░─┤M├───»\n",
       "«                ░  │ └───┘┌────┴────┐┌───┐     │                      ░ └╥┘┌─┐»\n",
       "«q_1: ───────────░──┼──────┤ P(-π/2) ├┤ H ├─────┼──────────■───────────░──╫─┤M├»\n",
       "«                ░  │      └─────────┘└───┘┌────┴────┐┌────┴────┐┌───┐ ░  ║ └╥┘»\n",
       "«q_2: ────■──────░──X──────────────────────┤ P(-π/4) ├┤ P(-π/2) ├┤ H ├─░──╫──╫─»\n",
       "«     ┌───┴────┐ ░                         └─────────┘└─────────┘└───┘ ░  ║  ║ »\n",
       "«q_3: ┤ P(π/4) ├─░─────────────────────────────────────────────────────░──╫──╫─»\n",
       "«     └────────┘ ░                                                     ░  ║  ║ »\n",
       "«c: 3/════════════════════════════════════════════════════════════════════╩══╩═»\n",
       "«                                                                         0  1 »\n",
       "«        \n",
       "«q_0: ───\n",
       "«        \n",
       "«q_1: ───\n",
       "«     ┌─┐\n",
       "«q_2: ┤M├\n",
       "«     └╥┘\n",
       "«q_3: ─╫─\n",
       "«      ║ \n",
       "«c: 3/═╩═\n",
       "«      2 </pre>"
      ],
      "text/plain": [
       "     ┌───┐                                                            »\n",
       "q_0: ┤ H ├────■───────────────────────────────────────────────────────»\n",
       "     ├───┤    │                                                       »\n",
       "q_1: ┤ H ├────┼─────────■─────────■───────────────────────────────────»\n",
       "     ├───┤    │         │         │                                   »\n",
       "q_2: ┤ H ├────┼─────────┼─────────┼─────────■─────────■─────────■─────»\n",
       "     ├───┤┌───┴────┐┌───┴────┐┌───┴────┐┌───┴────┐┌───┴────┐┌───┴────┐»\n",
       "q_3: ┤ X ├┤ P(π/4) ├┤ P(π/4) ├┤ P(π/4) ├┤ P(π/4) ├┤ P(π/4) ├┤ P(π/4) ├»\n",
       "     └───┘└────────┘└────────┘└────────┘└────────┘└────────┘└────────┘»\n",
       "c: 3/═════════════════════════════════════════════════════════════════»\n",
       "                                                                      »\n",
       "«                ░    ┌───┐                                            ░ ┌─┐   »\n",
       "«q_0: ───────────░──X─┤ H ├─────■───────────────■──────────────────────░─┤M├───»\n",
       "«                ░  │ └───┘┌────┴────┐┌───┐     │                      ░ └╥┘┌─┐»\n",
       "«q_1: ───────────░──┼──────┤ P(-π/2) ├┤ H ├─────┼──────────■───────────░──╫─┤M├»\n",
       "«                ░  │      └─────────┘└───┘┌────┴────┐┌────┴────┐┌───┐ ░  ║ └╥┘»\n",
       "«q_2: ────■──────░──X──────────────────────┤ P(-π/4) ├┤ P(-π/2) ├┤ H ├─░──╫──╫─»\n",
       "«     ┌───┴────┐ ░                         └─────────┘└─────────┘└───┘ ░  ║  ║ »\n",
       "«q_3: ┤ P(π/4) ├─░─────────────────────────────────────────────────────░──╫──╫─»\n",
       "«     └────────┘ ░                                                     ░  ║  ║ »\n",
       "«c: 3/════════════════════════════════════════════════════════════════════╩══╩═»\n",
       "«                                                                         0  1 »\n",
       "«        \n",
       "«q_0: ───\n",
       "«        \n",
       "«q_1: ───\n",
       "«     ┌─┐\n",
       "«q_2: ┤M├\n",
       "«     └╥┘\n",
       "«q_3: ─╫─\n",
       "«      ║ \n",
       "«c: 3/═╩═\n",
       "«      2 "
      ]
     },
     "execution_count": 7,
     "metadata": {},
     "output_type": "execute_result"
    }
   ],
   "source": [
    "qpe.draw()"
   ]
  },
  {
   "cell_type": "markdown",
   "metadata": {},
   "source": [
    "### Results"
   ]
  },
  {
   "cell_type": "code",
   "execution_count": 8,
   "metadata": {},
   "outputs": [
    {
     "data": {
      "image/png": "[encoded data removed]",
      "text/plain": [
       "<Figure size 504x360 with 1 Axes>"
      ]
     },
     "execution_count": 8,
     "metadata": {},
     "output_type": "execute_result"
    }
   ],
   "source": [
    "qasm_sim = Aer.get_backend('qasm_simulator')\n",
    "shots = 2048\n",
    "t_qpe = transpile(qpe, qasm_sim)\n",
    "qobj = assemble(t_qpe, shots=shots)\n",
    "results = qasm_sim.run(qobj).result()\n",
    "answer = results.get_counts()\n",
    "\n",
    "plot_histogram(answer)"
   ]
  },
  {
   "cell_type": "markdown",
   "metadata": {},
   "source": [
    "I can see I get one result (`001`) with certainty, which translates to the decimal: `1`. I now need to divide our result (`1`) by $2^n$ to get $\\theta$:\n",
    "\n",
    "$$ \\theta = \\frac{1}{2^3} = \\frac{1}{8} $$\n",
    "\n",
    "This is exactly the result I expected!"
   ]
  },
  {
   "cell_type": "markdown",
   "metadata": {},
   "source": [
    "## Example: Getting More Precision in the problem\n",
    "\n",
    "Instead of a $T$-gate, I can use a gate with $\\theta = \\frac{1}{3}$. I set up the circuit the same as the last example:"
   ]
  },
  {
   "cell_type": "code",
   "execution_count": 9,
   "metadata": {},
   "outputs": [
    {
     "data": {
      "text/html": [
       "<pre style=\"word-wrap: normal;white-space: pre;background: #fff0;line-height: 1.1;font-family: &quot;Courier New&quot;,Courier,monospace\">     ┌───┐                                                                  »\n",
       "q_0: ┤ H ├─────■────────────────────────────────────────────────────────────»\n",
       "     ├───┤     │                                                            »\n",
       "q_1: ┤ H ├─────┼──────────■──────────■──────────────────────────────────────»\n",
       "     ├───┤     │          │          │                                      »\n",
       "q_2: ┤ H ├─────┼──────────┼──────────┼──────────■──────────■──────────■─────»\n",
       "     ├───┤┌────┴────┐┌────┴────┐┌────┴────┐┌────┴────┐┌────┴────┐┌────┴────┐»\n",
       "q_3: ┤ X ├┤ P(2π/3) ├┤ P(2π/3) ├┤ P(2π/3) ├┤ P(2π/3) ├┤ P(2π/3) ├┤ P(2π/3) ├»\n",
       "     └───┘└─────────┘└─────────┘└─────────┘└─────────┘└─────────┘└─────────┘»\n",
       "c: 3/═══════════════════════════════════════════════════════════════════════»\n",
       "                                                                            »\n",
       "«                   ┌───┐                                      ┌─┐           \n",
       "«q_0: ────────────X─┤ H ├─────■───────────────■────────────────┤M├───────────\n",
       "«                 │ └───┘┌────┴────┐┌───┐     │                └╥┘     ┌─┐   \n",
       "«q_1: ────────────┼──────┤ P(-π/2) ├┤ H ├─────┼──────────■──────╫──────┤M├───\n",
       "«                 │      └─────────┘└───┘┌────┴────┐┌────┴────┐ ║ ┌───┐└╥┘┌─┐\n",
       "«q_2: ─────■──────X──────────────────────┤ P(-π/4) ├┤ P(-π/2) ├─╫─┤ H ├─╫─┤M├\n",
       "«     ┌────┴────┐                        └─────────┘└─────────┘ ║ └───┘ ║ └╥┘\n",
       "«q_3: ┤ P(2π/3) ├───────────────────────────────────────────────╫───────╫──╫─\n",
       "«     └─────────┘                                               ║       ║  ║ \n",
       "«c: 3/══════════════════════════════════════════════════════════╩═══════╩══╩═\n",
       "«                                                               0       1  2 </pre>"
      ],
      "text/plain": [
       "     ┌───┐                                                                  »\n",
       "q_0: ┤ H ├─────■────────────────────────────────────────────────────────────»\n",
       "     ├───┤     │                                                            »\n",
       "q_1: ┤ H ├─────┼──────────■──────────■──────────────────────────────────────»\n",
       "     ├───┤     │          │          │                                      »\n",
       "q_2: ┤ H ├─────┼──────────┼──────────┼──────────■──────────■──────────■─────»\n",
       "     ├───┤┌────┴────┐┌────┴────┐┌────┴────┐┌────┴────┐┌────┴────┐┌────┴────┐»\n",
       "q_3: ┤ X ├┤ P(2π/3) ├┤ P(2π/3) ├┤ P(2π/3) ├┤ P(2π/3) ├┤ P(2π/3) ├┤ P(2π/3) ├»\n",
       "     └───┘└─────────┘└─────────┘└─────────┘└─────────┘└─────────┘└─────────┘»\n",
       "c: 3/═══════════════════════════════════════════════════════════════════════»\n",
       "                                                                            »\n",
       "«                   ┌───┐                                      ┌─┐           \n",
       "«q_0: ────────────X─┤ H ├─────■───────────────■────────────────┤M├───────────\n",
       "«                 │ └───┘┌────┴────┐┌───┐     │                └╥┘     ┌─┐   \n",
       "«q_1: ────────────┼──────┤ P(-π/2) ├┤ H ├─────┼──────────■──────╫──────┤M├───\n",
       "«                 │      └─────────┘└───┘┌────┴────┐┌────┴────┐ ║ ┌───┐└╥┘┌─┐\n",
       "«q_2: ─────■──────X──────────────────────┤ P(-π/4) ├┤ P(-π/2) ├─╫─┤ H ├─╫─┤M├\n",
       "«     ┌────┴────┐                        └─────────┘└─────────┘ ║ └───┘ ║ └╥┘\n",
       "«q_3: ┤ P(2π/3) ├───────────────────────────────────────────────╫───────╫──╫─\n",
       "«     └─────────┘                                               ║       ║  ║ \n",
       "«c: 3/══════════════════════════════════════════════════════════╩═══════╩══╩═\n",
       "«                                                               0       1  2 "
      ]
     },
     "execution_count": 9,
     "metadata": {},
     "output_type": "execute_result"
    }
   ],
   "source": [
    "# Create and set up circuit\n",
    "qpe2 = QuantumCircuit(4, 3)\n",
    "\n",
    "# Apply H-Gates to counting qubits:\n",
    "for qubit in range(3):\n",
    "    qpe2.h(qubit)\n",
    "\n",
    "# Prepare our eigenstate |psi>:\n",
    "qpe2.x(3)\n",
    "\n",
    "# Do the controlled-U operations:\n",
    "angle = 2*math.pi/3\n",
    "repetitions = 1\n",
    "for counting_qubit in range(3):\n",
    "    for i in range(repetitions):\n",
    "        qpe2.cp(angle, counting_qubit, 3);\n",
    "    repetitions *= 2\n",
    "\n",
    "# Do the inverse QFT:\n",
    "qft_dagger(qpe2, 3)\n",
    "\n",
    "# Measure of course!\n",
    "for n in range(3):\n",
    "    qpe2.measure(n,n)\n",
    "\n",
    "qpe2.draw()"
   ]
  },
  {
   "cell_type": "code",
   "execution_count": 10,
   "metadata": {},
   "outputs": [
    {
     "data": {
      "image/png": "[encoded data removed]",
      "text/plain": [
       "<Figure size 504x360 with 1 Axes>"
      ]
     },
     "execution_count": 10,
     "metadata": {},
     "output_type": "execute_result"
    }
   ],
   "source": [
    "# Let's see the results!\n",
    "qasm_sim = Aer.get_backend('qasm_simulator')\n",
    "shots = 4096\n",
    "t_qpe2 = transpile(qpe2, qasm_sim)\n",
    "qobj = assemble(t_qpe2, shots=shots)\n",
    "results = qasm_sim.run(qobj).result()\n",
    "answer = results.get_counts()\n",
    "\n",
    "plot_histogram(answer)"
   ]
  },
  {
   "cell_type": "markdown",
   "metadata": {},
   "source": [
    "I am expecting the result $\\theta = 0.3333\\dots$, and I can see my most likely results are `010(bin) = 2(dec)` and `011(bin) = 3(dec)`. These two results would tell me that $\\theta = 0.25$ (off by 25%) and $\\theta = 0.375$ (off by 13%) respectively. The true value of $\\theta$ lies between the values I can get from the counting bits, and this gives me uncertainty and imprecision in my answer. This can be fixed as follows:\n",
    "\n",
    "### A Solution?\n",
    "\n",
    "To get more precision I simply add more counting qubits. I am going to add two more counting qubits:"
   ]
  },
  {
   "cell_type": "code",
   "execution_count": 11,
   "metadata": {},
   "outputs": [
    {
     "data": {
      "text/html": [
       "<pre style=\"word-wrap: normal;white-space: pre;background: #fff0;line-height: 1.1;font-family: &quot;Courier New&quot;,Courier,monospace\">     ┌───┐                                                                  »\n",
       "q_0: ┤ H ├─────■────────────────────────────────────────────────────────────»\n",
       "     ├───┤     │                                                            »\n",
       "q_1: ┤ H ├─────┼──────────■──────────■──────────────────────────────────────»\n",
       "     ├───┤     │          │          │                                      »\n",
       "q_2: ┤ H ├─────┼──────────┼──────────┼──────────■──────────■──────────■─────»\n",
       "     ├───┤     │          │          │          │          │          │     »\n",
       "q_3: ┤ H ├─────┼──────────┼──────────┼──────────┼──────────┼──────────┼─────»\n",
       "     ├───┤     │          │          │          │          │          │     »\n",
       "q_4: ┤ H ├─────┼──────────┼──────────┼──────────┼──────────┼──────────┼─────»\n",
       "     ├───┤┌────┴────┐┌────┴────┐┌────┴────┐┌────┴────┐┌────┴────┐┌────┴────┐»\n",
       "q_5: ┤ X ├┤ P(2π/3) ├┤ P(2π/3) ├┤ P(2π/3) ├┤ P(2π/3) ├┤ P(2π/3) ├┤ P(2π/3) ├»\n",
       "     └───┘└─────────┘└─────────┘└─────────┘└─────────┘└─────────┘└─────────┘»\n",
       "c: 5/═══════════════════════════════════════════════════════════════════════»\n",
       "                                                                            »\n",
       "«                                                                       »\n",
       "«q_0: ──────────────────────────────────────────────────────────────────»\n",
       "«                                                                       »\n",
       "«q_1: ──────────────────────────────────────────────────────────────────»\n",
       "«                                                                       »\n",
       "«q_2: ─────■────────────────────────────────────────────────────────────»\n",
       "«          │                                                            »\n",
       "«q_3: ─────┼──────────■──────────■──────────■──────────■──────────■─────»\n",
       "«          │          │          │          │          │          │     »\n",
       "«q_4: ─────┼──────────┼──────────┼──────────┼──────────┼──────────┼─────»\n",
       "«     ┌────┴────┐┌────┴────┐┌────┴────┐┌────┴────┐┌────┴────┐┌────┴────┐»\n",
       "«q_5: ┤ P(2π/3) ├┤ P(2π/3) ├┤ P(2π/3) ├┤ P(2π/3) ├┤ P(2π/3) ├┤ P(2π/3) ├»\n",
       "«     └─────────┘└─────────┘└─────────┘└─────────┘└─────────┘└─────────┘»\n",
       "«c: 5/══════════════════════════════════════════════════════════════════»\n",
       "«                                                                       »\n",
       "«                                                                       »\n",
       "«q_0: ──────────────────────────────────────────────────────────────────»\n",
       "«                                                                       »\n",
       "«q_1: ──────────────────────────────────────X───────────────────────────»\n",
       "«                                           │                           »\n",
       "«q_2: ──────────────────────────────────────┼───────────────────────────»\n",
       "«                                           │                           »\n",
       "«q_3: ─────■──────────■──────────■──────────X───────────────────────────»\n",
       "«          │          │          │                                      »\n",
       "«q_4: ─────┼──────────┼──────────┼──────────■──────────■──────────■─────»\n",
       "«     ┌────┴────┐┌────┴────┐┌────┴────┐┌────┴────┐┌────┴────┐┌────┴────┐»\n",
       "«q_5: ┤ P(2π/3) ├┤ P(2π/3) ├┤ P(2π/3) ├┤ P(2π/3) ├┤ P(2π/3) ├┤ P(2π/3) ├»\n",
       "«     └─────────┘└─────────┘└─────────┘└─────────┘└─────────┘└─────────┘»\n",
       "«c: 5/══════════════════════════════════════════════════════════════════»\n",
       "«                                                                       »\n",
       "«                                                                       »\n",
       "«q_0: ──────────────────────────────────────────────────────────────────»\n",
       "«                                                                       »\n",
       "«q_1: ──────────────────────────────────────────────────────────────────»\n",
       "«                                                                       »\n",
       "«q_2: ──────────────────────────────────────────────────────────────────»\n",
       "«                                                                       »\n",
       "«q_3: ──────────────────────────────────────────────────────────────────»\n",
       "«                                                                       »\n",
       "«q_4: ─────■──────────■──────────■──────────■──────────■──────────■─────»\n",
       "«     ┌────┴────┐┌────┴────┐┌────┴────┐┌────┴────┐┌────┴────┐┌────┴────┐»\n",
       "«q_5: ┤ P(2π/3) ├┤ P(2π/3) ├┤ P(2π/3) ├┤ P(2π/3) ├┤ P(2π/3) ├┤ P(2π/3) ├»\n",
       "«     └─────────┘└─────────┘└─────────┘└─────────┘└─────────┘└─────────┘»\n",
       "«c: 5/══════════════════════════════════════════════════════════════════»\n",
       "«                                                                       »\n",
       "«                                                                       »\n",
       "«q_0: ──────────────────────────────────────────────────────────────────»\n",
       "«                                                                       »\n",
       "«q_1: ──────────────────────────────────────────────────────────────────»\n",
       "«                                                                       »\n",
       "«q_2: ──────────────────────────────────────────────────────────────────»\n",
       "«                                                                       »\n",
       "«q_3: ──────────────────────────────────────────────────────────────────»\n",
       "«                                                                       »\n",
       "«q_4: ─────■──────────■──────────■──────────■──────────■──────────■─────»\n",
       "«     ┌────┴────┐┌────┴────┐┌────┴────┐┌────┴────┐┌────┴────┐┌────┴────┐»\n",
       "«q_5: ┤ P(2π/3) ├┤ P(2π/3) ├┤ P(2π/3) ├┤ P(2π/3) ├┤ P(2π/3) ├┤ P(2π/3) ├»\n",
       "«     └─────────┘└─────────┘└─────────┘└─────────┘└─────────┘└─────────┘»\n",
       "«c: 5/══════════════════════════════════════════════════════════════════»\n",
       "«                                                                       »\n",
       "«                   ┌───┐                                                      »\n",
       "«q_0: ────────────X─┤ H ├─────■───────────────■─────────────────────■──────────»\n",
       "«                 │ └───┘┌────┴────┐┌───┐     │                     │          »\n",
       "«q_1: ────────────┼──────┤ P(-π/2) ├┤ H ├─────┼──────────■──────────┼──────────»\n",
       "«                 │      └─────────┘└───┘┌────┴────┐┌────┴────┐     │     ┌───┐»\n",
       "«q_2: ────────────┼──────────────────────┤ P(-π/4) ├┤ P(-π/2) ├─────┼─────┤ H ├»\n",
       "«                 │                      └─────────┘└─────────┘┌────┴────┐└───┘»\n",
       "«q_3: ────────────┼────────────────────────────────────────────┤ P(-π/8) ├─────»\n",
       "«                 │                                            └─────────┘     »\n",
       "«q_4: ─────■──────X────────────────────────────────────────────────────────────»\n",
       "«     ┌────┴────┐                                                              »\n",
       "«q_5: ┤ P(2π/3) ├──────────────────────────────────────────────────────────────»\n",
       "«     └─────────┘                                                              »\n",
       "«c: 5/═════════════════════════════════════════════════════════════════════════»\n",
       "«                                                                              »\n",
       "«                                                                             »\n",
       "«q_0: ────────────────■───────────────────────────────────────────────────────»\n",
       "«                     │                                                       »\n",
       "«q_1: ─────■──────────┼──────────────────────■────────────────────────────────»\n",
       "«          │          │                      │                                »\n",
       "«q_2: ─────┼──────────┼───────────■──────────┼───────────────■────────────────»\n",
       "«     ┌────┴────┐     │      ┌────┴────┐     │     ┌───┐     │                »\n",
       "«q_3: ┤ P(-π/4) ├─────┼──────┤ P(-π/2) ├─────┼─────┤ H ├─────┼──────────■─────»\n",
       "«     └─────────┘┌────┴─────┐└─────────┘┌────┴────┐└───┘┌────┴────┐┌────┴────┐»\n",
       "«q_4: ───────────┤ P(-π/16) ├───────────┤ P(-π/8) ├─────┤ P(-π/4) ├┤ P(-π/2) ├»\n",
       "«                └──────────┘           └─────────┘     └─────────┘└─────────┘»\n",
       "«q_5: ────────────────────────────────────────────────────────────────────────»\n",
       "«                                                                             »\n",
       "«c: 5/════════════════════════════════════════════════════════════════════════»\n",
       "«                                                                             »\n",
       "«           ░ ┌─┐            \n",
       "«q_0: ──────░─┤M├────────────\n",
       "«           ░ └╥┘┌─┐         \n",
       "«q_1: ──────░──╫─┤M├─────────\n",
       "«           ░  ║ └╥┘┌─┐      \n",
       "«q_2: ──────░──╫──╫─┤M├──────\n",
       "«           ░  ║  ║ └╥┘┌─┐   \n",
       "«q_3: ──────░──╫──╫──╫─┤M├───\n",
       "«     ┌───┐ ░  ║  ║  ║ └╥┘┌─┐\n",
       "«q_4: ┤ H ├─░──╫──╫──╫──╫─┤M├\n",
       "«     └───┘ ░  ║  ║  ║  ║ └╥┘\n",
       "«q_5: ──────░──╫──╫──╫──╫──╫─\n",
       "«           ░  ║  ║  ║  ║  ║ \n",
       "«c: 5/═════════╩══╩══╩══╩══╩═\n",
       "«              0  1  2  3  4 </pre>"
      ],
      "text/plain": [
       "     ┌───┐                                                                  »\n",
       "q_0: ┤ H ├─────■────────────────────────────────────────────────────────────»\n",
       "     ├───┤     │                                                            »\n",
       "q_1: ┤ H ├─────┼──────────■──────────■──────────────────────────────────────»\n",
       "     ├───┤     │          │          │                                      »\n",
       "q_2: ┤ H ├─────┼──────────┼──────────┼──────────■──────────■──────────■─────»\n",
       "     ├───┤     │          │          │          │          │          │     »\n",
       "q_3: ┤ H ├─────┼──────────┼──────────┼──────────┼──────────┼──────────┼─────»\n",
       "     ├───┤     │          │          │          │          │          │     »\n",
       "q_4: ┤ H ├─────┼──────────┼──────────┼──────────┼──────────┼──────────┼─────»\n",
       "     ├───┤┌────┴────┐┌────┴────┐┌────┴────┐┌────┴────┐┌────┴────┐┌────┴────┐»\n",
       "q_5: ┤ X ├┤ P(2π/3) ├┤ P(2π/3) ├┤ P(2π/3) ├┤ P(2π/3) ├┤ P(2π/3) ├┤ P(2π/3) ├»\n",
       "     └───┘└─────────┘└─────────┘└─────────┘└─────────┘└─────────┘└─────────┘»\n",
       "c: 5/═══════════════════════════════════════════════════════════════════════»\n",
       "                                                                            »\n",
       "«                                                                       »\n",
       "«q_0: ──────────────────────────────────────────────────────────────────»\n",
       "«                                                                       »\n",
       "«q_1: ──────────────────────────────────────────────────────────────────»\n",
       "«                                                                       »\n",
       "«q_2: ─────■────────────────────────────────────────────────────────────»\n",
       "«          │                                                            »\n",
       "«q_3: ─────┼──────────■──────────■──────────■──────────■──────────■─────»\n",
       "«          │          │          │          │          │          │     »\n",
       "«q_4: ─────┼──────────┼──────────┼──────────┼──────────┼──────────┼─────»\n",
       "«     ┌────┴────┐┌────┴────┐┌────┴────┐┌────┴────┐┌────┴────┐┌────┴────┐»\n",
       "«q_5: ┤ P(2π/3) ├┤ P(2π/3) ├┤ P(2π/3) ├┤ P(2π/3) ├┤ P(2π/3) ├┤ P(2π/3) ├»\n",
       "«     └─────────┘└─────────┘└─────────┘└─────────┘└─────────┘└─────────┘»\n",
       "«c: 5/══════════════════════════════════════════════════════════════════»\n",
       "«                                                                       »\n",
       "«                                                                       »\n",
       "«q_0: ──────────────────────────────────────────────────────────────────»\n",
       "«                                                                       »\n",
       "«q_1: ──────────────────────────────────────X───────────────────────────»\n",
       "«                                           │                           »\n",
       "«q_2: ──────────────────────────────────────┼───────────────────────────»\n",
       "«                                           │                           »\n",
       "«q_3: ─────■──────────■──────────■──────────X───────────────────────────»\n",
       "«          │          │          │                                      »\n",
       "«q_4: ─────┼──────────┼──────────┼──────────■──────────■──────────■─────»\n",
       "«     ┌────┴────┐┌────┴────┐┌────┴────┐┌────┴────┐┌────┴────┐┌────┴────┐»\n",
       "«q_5: ┤ P(2π/3) ├┤ P(2π/3) ├┤ P(2π/3) ├┤ P(2π/3) ├┤ P(2π/3) ├┤ P(2π/3) ├»\n",
       "«     └─────────┘└─────────┘└─────────┘└─────────┘└─────────┘└─────────┘»\n",
       "«c: 5/══════════════════════════════════════════════════════════════════»\n",
       "«                                                                       »\n",
       "«                                                                       »\n",
       "«q_0: ──────────────────────────────────────────────────────────────────»\n",
       "«                                                                       »\n",
       "«q_1: ──────────────────────────────────────────────────────────────────»\n",
       "«                                                                       »\n",
       "«q_2: ──────────────────────────────────────────────────────────────────»\n",
       "«                                                                       »\n",
       "«q_3: ──────────────────────────────────────────────────────────────────»\n",
       "«                                                                       »\n",
       "«q_4: ─────■──────────■──────────■──────────■──────────■──────────■─────»\n",
       "«     ┌────┴────┐┌────┴────┐┌────┴────┐┌────┴────┐┌────┴────┐┌────┴────┐»\n",
       "«q_5: ┤ P(2π/3) ├┤ P(2π/3) ├┤ P(2π/3) ├┤ P(2π/3) ├┤ P(2π/3) ├┤ P(2π/3) ├»\n",
       "«     └─────────┘└─────────┘└─────────┘└─────────┘└─────────┘└─────────┘»\n",
       "«c: 5/══════════════════════════════════════════════════════════════════»\n",
       "«                                                                       »\n",
       "«                                                                       »\n",
       "«q_0: ──────────────────────────────────────────────────────────────────»\n",
       "«                                                                       »\n",
       "«q_1: ──────────────────────────────────────────────────────────────────»\n",
       "«                                                                       »\n",
       "«q_2: ──────────────────────────────────────────────────────────────────»\n",
       "«                                                                       »\n",
       "«q_3: ──────────────────────────────────────────────────────────────────»\n",
       "«                                                                       »\n",
       "«q_4: ─────■──────────■──────────■──────────■──────────■──────────■─────»\n",
       "«     ┌────┴────┐┌────┴────┐┌────┴────┐┌────┴────┐┌────┴────┐┌────┴────┐»\n",
       "«q_5: ┤ P(2π/3) ├┤ P(2π/3) ├┤ P(2π/3) ├┤ P(2π/3) ├┤ P(2π/3) ├┤ P(2π/3) ├»\n",
       "«     └─────────┘└─────────┘└─────────┘└─────────┘└─────────┘└─────────┘»\n",
       "«c: 5/══════════════════════════════════════════════════════════════════»\n",
       "«                                                                       »\n",
       "«                   ┌───┐                                                      »\n",
       "«q_0: ────────────X─┤ H ├─────■───────────────■─────────────────────■──────────»\n",
       "«                 │ └───┘┌────┴────┐┌───┐     │                     │          »\n",
       "«q_1: ────────────┼──────┤ P(-π/2) ├┤ H ├─────┼──────────■──────────┼──────────»\n",
       "«                 │      └─────────┘└───┘┌────┴────┐┌────┴────┐     │     ┌───┐»\n",
       "«q_2: ────────────┼──────────────────────┤ P(-π/4) ├┤ P(-π/2) ├─────┼─────┤ H ├»\n",
       "«                 │                      └─────────┘└─────────┘┌────┴────┐└───┘»\n",
       "«q_3: ────────────┼────────────────────────────────────────────┤ P(-π/8) ├─────»\n",
       "«                 │                                            └─────────┘     »\n",
       "«q_4: ─────■──────X────────────────────────────────────────────────────────────»\n",
       "«     ┌────┴────┐                                                              »\n",
       "«q_5: ┤ P(2π/3) ├──────────────────────────────────────────────────────────────»\n",
       "«     └─────────┘                                                              »\n",
       "«c: 5/═════════════════════════════════════════════════════════════════════════»\n",
       "«                                                                              »\n",
       "«                                                                             »\n",
       "«q_0: ────────────────■───────────────────────────────────────────────────────»\n",
       "«                     │                                                       »\n",
       "«q_1: ─────■──────────┼──────────────────────■────────────────────────────────»\n",
       "«          │          │                      │                                »\n",
       "«q_2: ─────┼──────────┼───────────■──────────┼───────────────■────────────────»\n",
       "«     ┌────┴────┐     │      ┌────┴────┐     │     ┌───┐     │                »\n",
       "«q_3: ┤ P(-π/4) ├─────┼──────┤ P(-π/2) ├─────┼─────┤ H ├─────┼──────────■─────»\n",
       "«     └─────────┘┌────┴─────┐└─────────┘┌────┴────┐└───┘┌────┴────┐┌────┴────┐»\n",
       "«q_4: ───────────┤ P(-π/16) ├───────────┤ P(-π/8) ├─────┤ P(-π/4) ├┤ P(-π/2) ├»\n",
       "«                └──────────┘           └─────────┘     └─────────┘└─────────┘»\n",
       "«q_5: ────────────────────────────────────────────────────────────────────────»\n",
       "«                                                                             »\n",
       "«c: 5/════════════════════════════════════════════════════════════════════════»\n",
       "«                                                                             »\n",
       "«           ░ ┌─┐            \n",
       "«q_0: ──────░─┤M├────────────\n",
       "«           ░ └╥┘┌─┐         \n",
       "«q_1: ──────░──╫─┤M├─────────\n",
       "«           ░  ║ └╥┘┌─┐      \n",
       "«q_2: ──────░──╫──╫─┤M├──────\n",
       "«           ░  ║  ║ └╥┘┌─┐   \n",
       "«q_3: ──────░──╫──╫──╫─┤M├───\n",
       "«     ┌───┐ ░  ║  ║  ║ └╥┘┌─┐\n",
       "«q_4: ┤ H ├─░──╫──╫──╫──╫─┤M├\n",
       "«     └───┘ ░  ║  ║  ║  ║ └╥┘\n",
       "«q_5: ──────░──╫──╫──╫──╫──╫─\n",
       "«           ░  ║  ║  ║  ║  ║ \n",
       "«c: 5/═════════╩══╩══╩══╩══╩═\n",
       "«              0  1  2  3  4 "
      ]
     },
     "execution_count": 11,
     "metadata": {},
     "output_type": "execute_result"
    }
   ],
   "source": [
    "# Create and set up circuit\n",
    "qpe3 = QuantumCircuit(6, 5)\n",
    "\n",
    "# Apply H-Gates to counting qubits:\n",
    "for qubit in range(5):\n",
    "    qpe3.h(qubit)\n",
    "\n",
    "# Prepare our eigenstate |psi>:\n",
    "qpe3.x(5)\n",
    "\n",
    "# Do the controlled-U operations:\n",
    "angle = 2*math.pi/3\n",
    "repetitions = 1\n",
    "for counting_qubit in range(5):\n",
    "    for i in range(repetitions):\n",
    "        qpe3.cp(angle, counting_qubit, 5);\n",
    "    repetitions *= 2\n",
    "\n",
    "# Do the inverse QFT:\n",
    "qft_dagger(qpe3, 5)\n",
    "\n",
    "# Measure of course!\n",
    "qpe3.barrier()\n",
    "for n in range(5):\n",
    "    qpe3.measure(n,n)\n",
    "\n",
    "qpe3.draw()"
   ]
  },
  {
   "cell_type": "code",
   "execution_count": 12,
   "metadata": {},
   "outputs": [
    {
     "data": {
      "image/png": "[encoded data removed]",
      "text/plain": [
       "<Figure size 504x360 with 1 Axes>"
      ]
     },
     "execution_count": 12,
     "metadata": {},
     "output_type": "execute_result"
    }
   ],
   "source": [
    "# Let's see the results!\n",
    "qasm_sim = Aer.get_backend('qasm_simulator')\n",
    "shots = 4096\n",
    "t_qpe3 = transpile(qpe3, qasm_sim)\n",
    "qobj = assemble(t_qpe3, shots=shots)\n",
    "results = qasm_sim.run(qobj).result()\n",
    "answer = results.get_counts()\n",
    "\n",
    "plot_histogram(answer)"
   ]
  },
  {
   "cell_type": "markdown",
   "metadata": {},
   "source": [
    "The two most likely measurements are now `01011` (decimal 11) and `01010` (decimal 10). Measuring these results would tell me $\\theta$ is:\n",
    "\n",
    "$$\n",
    "\\theta = \\frac{11}{2^5} = 0.344,\\;\\text{  or  }\\;\\; \\theta = \\frac{10}{2^5} = 0.313\n",
    "$$\n",
    "\n",
    "These two results differ from $\\frac{1}{3}$ by 3% and 6% respectively. Significantly better precision!"
   ]
  },
  {
   "cell_type": "markdown",
   "metadata": {},
   "source": [
    "## Experimenting with Real Devices\n",
    "\n",
    "I can run the circuit of a QPE on a real device, To remind myself of the circuit:"
   ]
  },
  {
   "cell_type": "code",
   "execution_count": 13,
   "metadata": {},
   "outputs": [
    {
     "data": {
      "text/html": [
       "<pre style=\"word-wrap: normal;white-space: pre;background: #fff0;line-height: 1.1;font-family: &quot;Courier New&quot;,Courier,monospace\">     ┌───┐                                                            »\n",
       "q_0: ┤ H ├────■───────────────────────────────────────────────────────»\n",
       "     ├───┤    │                                                       »\n",
       "q_1: ┤ H ├────┼─────────■─────────■───────────────────────────────────»\n",
       "     ├───┤    │         │         │                                   »\n",
       "q_2: ┤ H ├────┼─────────┼─────────┼─────────■─────────■─────────■─────»\n",
       "     ├───┤┌───┴────┐┌───┴────┐┌───┴────┐┌───┴────┐┌───┴────┐┌───┴────┐»\n",
       "q_3: ┤ X ├┤ P(π/4) ├┤ P(π/4) ├┤ P(π/4) ├┤ P(π/4) ├┤ P(π/4) ├┤ P(π/4) ├»\n",
       "     └───┘└────────┘└────────┘└────────┘└────────┘└────────┘└────────┘»\n",
       "c: 3/═════════════════════════════════════════════════════════════════»\n",
       "                                                                      »\n",
       "«                ░    ┌───┐                                            ░ ┌─┐   »\n",
       "«q_0: ───────────░──X─┤ H ├─────■───────────────■──────────────────────░─┤M├───»\n",
       "«                ░  │ └───┘┌────┴────┐┌───┐     │                      ░ └╥┘┌─┐»\n",
       "«q_1: ───────────░──┼──────┤ P(-π/2) ├┤ H ├─────┼──────────■───────────░──╫─┤M├»\n",
       "«                ░  │      └─────────┘└───┘┌────┴────┐┌────┴────┐┌───┐ ░  ║ └╥┘»\n",
       "«q_2: ────■──────░──X──────────────────────┤ P(-π/4) ├┤ P(-π/2) ├┤ H ├─░──╫──╫─»\n",
       "«     ┌───┴────┐ ░                         └─────────┘└─────────┘└───┘ ░  ║  ║ »\n",
       "«q_3: ┤ P(π/4) ├─░─────────────────────────────────────────────────────░──╫──╫─»\n",
       "«     └────────┘ ░                                                     ░  ║  ║ »\n",
       "«c: 3/════════════════════════════════════════════════════════════════════╩══╩═»\n",
       "«                                                                         0  1 »\n",
       "«        \n",
       "«q_0: ───\n",
       "«        \n",
       "«q_1: ───\n",
       "«     ┌─┐\n",
       "«q_2: ┤M├\n",
       "«     └╥┘\n",
       "«q_3: ─╫─\n",
       "«      ║ \n",
       "«c: 3/═╩═\n",
       "«      2 </pre>"
      ],
      "text/plain": [
       "     ┌───┐                                                            »\n",
       "q_0: ┤ H ├────■───────────────────────────────────────────────────────»\n",
       "     ├───┤    │                                                       »\n",
       "q_1: ┤ H ├────┼─────────■─────────■───────────────────────────────────»\n",
       "     ├───┤    │         │         │                                   »\n",
       "q_2: ┤ H ├────┼─────────┼─────────┼─────────■─────────■─────────■─────»\n",
       "     ├───┤┌───┴────┐┌───┴────┐┌───┴────┐┌───┴────┐┌───┴────┐┌───┴────┐»\n",
       "q_3: ┤ X ├┤ P(π/4) ├┤ P(π/4) ├┤ P(π/4) ├┤ P(π/4) ├┤ P(π/4) ├┤ P(π/4) ├»\n",
       "     └───┘└────────┘└────────┘└────────┘└────────┘└────────┘└────────┘»\n",
       "c: 3/═════════════════════════════════════════════════════════════════»\n",
       "                                                                      »\n",
       "«                ░    ┌───┐                                            ░ ┌─┐   »\n",
       "«q_0: ───────────░──X─┤ H ├─────■───────────────■──────────────────────░─┤M├───»\n",
       "«                ░  │ └───┘┌────┴────┐┌───┐     │                      ░ └╥┘┌─┐»\n",
       "«q_1: ───────────░──┼──────┤ P(-π/2) ├┤ H ├─────┼──────────■───────────░──╫─┤M├»\n",
       "«                ░  │      └─────────┘└───┘┌────┴────┐┌────┴────┐┌───┐ ░  ║ └╥┘»\n",
       "«q_2: ────■──────░──X──────────────────────┤ P(-π/4) ├┤ P(-π/2) ├┤ H ├─░──╫──╫─»\n",
       "«     ┌───┴────┐ ░                         └─────────┘└─────────┘└───┘ ░  ║  ║ »\n",
       "«q_3: ┤ P(π/4) ├─░─────────────────────────────────────────────────────░──╫──╫─»\n",
       "«     └────────┘ ░                                                     ░  ║  ║ »\n",
       "«c: 3/════════════════════════════════════════════════════════════════════╩══╩═»\n",
       "«                                                                         0  1 »\n",
       "«        \n",
       "«q_0: ───\n",
       "«        \n",
       "«q_1: ───\n",
       "«     ┌─┐\n",
       "«q_2: ┤M├\n",
       "«     └╥┘\n",
       "«q_3: ─╫─\n",
       "«      ║ \n",
       "«c: 3/═╩═\n",
       "«      2 "
      ]
     },
     "execution_count": 13,
     "metadata": {},
     "output_type": "execute_result"
    }
   ],
   "source": [
    "qpe.draw()"
   ]
  },
  {
   "cell_type": "code",
   "execution_count": 16,
   "metadata": {
    "tags": [
     "uses-hardware"
    ]
   },
   "outputs": [
    {
     "name": "stderr",
     "output_type": "stream",
     "text": [
      "<ipython-input-16-cbbd8bec7ac3>:10: DeprecationWarning: Passing a Qobj to Backend.run is deprecated and will be removed in a future release. Please pass in circuits or pulse schedules instead.\n",
      "  job = santiago.run(qc)\n"
     ]
    },
    {
     "name": "stdout",
     "output_type": "stream",
     "text": [
      "Job Status: job has successfully run\n"
     ]
    }
   ],
   "source": [
    "IBMQ.load_account()\n",
    "from qiskit.tools.monitor import job_monitor\n",
    "provider = IBMQ.get_provider(hub='ibm-q')\n",
    "santiago = provider.get_backend('ibmq_santiago')\n",
    "\n",
    "# Run with 2048 shots\n",
    "shots = 2048\n",
    "t_qpe = transpile(qpe, santiago, optimization_level=3)\n",
    "qc = assemble(t_qpe, shots=shots)\n",
    "job = santiago.run(qc)\n",
    "job_monitor(job)"
   ]
  },
  {
   "cell_type": "code",
   "execution_count": 17,
   "metadata": {
    "tags": [
     "uses-hardware"
    ]
   },
   "outputs": [
    {
     "data": {
      "image/png": "[encoded data removed]",
      "text/plain": [
       "<Figure size 504x360 with 1 Axes>"
      ]
     },
     "execution_count": 17,
     "metadata": {},
     "output_type": "execute_result"
    }
   ],
   "source": [
    "# get the results from the computation\n",
    "results = job.result()\n",
    "answer = results.get_counts(qpe)\n",
    "\n",
    "plot_histogram(answer)"
   ]
  },
  {
   "cell_type": "markdown",
   "metadata": {},
   "source": [
    "I can hopefully see that the most likely result is `001` which is the result I would expect from the simulator. Unlike the simulator, there is a probability of measuring something other than `001`, this is due to noise and gate errors in the quantum computer."
   ]
  },
  {
   "cell_type": "markdown",
   "metadata": {},
   "source": [
    "## 7. References \n",
    "\n",
    "1. Michael A. Nielsen and Isaac L. Chuang. 2011. Quantum Computation and Quantum Information: 10th Anniversary Edition (10th ed.). Cambridge University Press, New York, NY, USA. "
   ]
  }
 ],
 "metadata": {
  "kernelspec": {
   "display_name": "Python 3",
   "language": "python",
   "name": "python3"
  },
  "language_info": {
   "codemirror_mode": {
    "name": "ipython",
    "version": 3
   },
   "file_extension": ".py",
   "mimetype": "text/x-python",
   "name": "python",
   "nbconvert_exporter": "python",
   "pygments_lexer": "ipython3",
   "version": "3.9.1"
  }
 },
 "nbformat": 4,
 "nbformat_minor": 4
}
