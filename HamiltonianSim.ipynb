{
 "cells": [
  {
   "cell_type": "markdown",
   "id": "9a1e8829",
   "metadata": {},
   "source": [
    "# Electronic Hamiltonian Simulation with Strawberry Fields\n",
    "\n",
    "The simulation of atoms, molecules and other biochemical systems is another application uniquely suited to quantum computation. For example, the ground state energy of large systems, the dynamical behaviour of an ensemble of molecules, or complex molecular behaviour such as protein folding, are often computationally hard or downright impossible to determine via classical computation or experimentation.\n",
    "\n",
    "In the discrete-variable qubit model, efficient methods of Hamiltonian simulation have been discussed at-length, providing several implementations depending on properties of the Hamiltonian, and resulting in a linear simulation time. Efficient implementations of Hamiltonian simulation also exist in the continuous variable model; with specific application to *Bose-Hubbard Hamiltonians* (describing a system of interacting bosonic particles on a lattice of orthogonal position states), as such this is a method which is perfectly suited to photonic quantum computation."
   ]
  },
  {
   "cell_type": "code",
   "execution_count": 1,
   "id": "0882f786",
   "metadata": {},
   "outputs": [],
   "source": [
    "import numpy as np\n",
    "import strawberryfields as sf\n",
    "from strawberryfields.ops import *"
   ]
  },
  {
   "cell_type": "markdown",
   "id": "5a9c8b85",
   "metadata": {},
   "source": [
    "### Implementation"
   ]
  },
  {
   "cell_type": "code",
   "execution_count": 2,
   "id": "c81faaf5",
   "metadata": {},
   "outputs": [],
   "source": [
    "np.random.seed(42)\n",
    "\n",
    "hamiltonian_simulation = sf.Program(2)"
   ]
  },
  {
   "cell_type": "code",
   "execution_count": 3,
   "id": "380d113a",
   "metadata": {},
   "outputs": [],
   "source": [
    "# set the Hamiltonian parameters\n",
    "J = 1           # hopping transition\n",
    "U = 1.5         # on-site interaction\n",
    "k = 20          # Lie product decomposition terms\n",
    "t = 1.086       # timestep\n",
    "theta = -J*t/k\n",
    "r = -U*t/(2*k)"
   ]
  },
  {
   "cell_type": "code",
   "execution_count": 4,
   "id": "3197a75e",
   "metadata": {},
   "outputs": [],
   "source": [
    "with hamiltonian_simulation.context as q:\n",
    "    # prepare the initial state\n",
    "    Fock(2) | q[0]\n",
    "\n",
    "    # Two node tight-binding\n",
    "    # Hamiltonian simulation\n",
    "\n",
    "    for i in range(k):\n",
    "        BSgate(theta, np.pi/2) | (q[0], q[1])\n",
    "        Kgate(r)  | q[0]\n",
    "        Rgate(-r) | q[0]\n",
    "        Kgate(r)  | q[1]\n",
    "        Rgate(-r) | q[1]"
   ]
  },
  {
   "cell_type": "code",
   "execution_count": 6,
   "id": "86abaa4f",
   "metadata": {},
   "outputs": [
    {
     "name": "stdout",
     "output_type": "stream",
     "text": [
      "You have successfully authenticated to the platform!\n"
     ]
    }
   ],
   "source": [
    "sf.ping()"
   ]
  },
  {
   "cell_type": "code",
   "execution_count": 7,
   "id": "4c3543c4",
   "metadata": {},
   "outputs": [],
   "source": [
    "eng = sf.Engine(backend=\"fock\", backend_options={\"cutoff_dim\": 5})"
   ]
  },
  {
   "cell_type": "code",
   "execution_count": 9,
   "id": "7f9fa67c",
   "metadata": {},
   "outputs": [],
   "source": [
    "results = eng.run(hamiltonian_simulation)"
   ]
  },
  {
   "cell_type": "code",
   "execution_count": 10,
   "id": "c52a3bc3",
   "metadata": {},
   "outputs": [
    {
     "name": "stdout",
     "output_type": "stream",
     "text": [
      "P(|0, 2>) =  0.5224012457200213\n",
      "P(|1, 1>) =  0.23565287685672467\n",
      "P(|2, 0>) =  0.24194587742325993\n"
     ]
    }
   ],
   "source": [
    "state = results.state\n",
    "print(\"P(|0, 2>) = \", state.fock_prob([0, 2]))\n",
    "print(\"P(|1, 1>) = \", state.fock_prob([1, 1]))\n",
    "print(\"P(|2, 0>) = \", state.fock_prob([2, 0]))"
   ]
  },
  {
   "cell_type": "code",
   "execution_count": 11,
   "id": "6ee2416d",
   "metadata": {},
   "outputs": [
    {
     "name": "stdout",
     "output_type": "stream",
     "text": [
      "1.000000000000006\n"
     ]
    }
   ],
   "source": [
    "result = [state.fock_prob([0, 2]), state.fock_prob([1, 1]), state.fock_prob([2, 0])]\n",
    "print(np.sum(result))"
   ]
  },
  {
   "cell_type": "code",
   "execution_count": 12,
   "id": "2b31aa60",
   "metadata": {},
   "outputs": [
    {
     "name": "stdout",
     "output_type": "stream",
     "text": [
      "[0.52249102 0.23516277 0.24234621]\n"
     ]
    }
   ],
   "source": [
    "from scipy.linalg import expm\n",
    "\n",
    "H = J*np.sqrt(2)*np.array([[0,1,0],[1,0,1],[0,1,0]]) + U*np.diag([1,0,1])\n",
    "init_state = np.array([0,0,1])\n",
    "\n",
    "theoretical_result = np.abs(np.dot(expm(-1j*t*H), init_state))**2\n",
    "print(theoretical_result)"
   ]
  },
  {
   "cell_type": "code",
   "execution_count": 13,
   "id": "7a01a3f5",
   "metadata": {},
   "outputs": [
    {
     "name": "stdout",
     "output_type": "stream",
     "text": [
      "True\n"
     ]
    }
   ],
   "source": [
    "print(np.all(np.abs(theoretical_result - result) < 1e-2))"
   ]
  },
  {
   "cell_type": "code",
   "execution_count": null,
   "id": "49b3f1c3",
   "metadata": {},
   "outputs": [],
   "source": []
  }
 ],
 "metadata": {
  "kernelspec": {
   "display_name": "Python 3 (ipykernel)",
   "language": "python",
   "name": "python3"
  },
  "language_info": {
   "codemirror_mode": {
    "name": "ipython",
    "version": 3
   },
   "file_extension": ".py",
   "mimetype": "text/x-python",
   "name": "python",
   "nbconvert_exporter": "python",
   "pygments_lexer": "ipython3",
   "version": "3.9.5"
  }
 },
 "nbformat": 4,
 "nbformat_minor": 5
}
